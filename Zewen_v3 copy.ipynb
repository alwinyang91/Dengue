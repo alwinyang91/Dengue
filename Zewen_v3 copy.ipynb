{
 "cells": [
  {
   "cell_type": "code",
   "execution_count": 1,
   "metadata": {},
   "outputs": [
    {
     "ename": "ModuleNotFoundError",
     "evalue": "No module named 'loadData'",
     "output_type": "error",
     "traceback": [
      "\u001b[0;31m---------------------------------------------------------------------------\u001b[0m",
      "\u001b[0;31mModuleNotFoundError\u001b[0m                       Traceback (most recent call last)",
      "Cell \u001b[0;32mIn[1], line 6\u001b[0m\n\u001b[1;32m      4\u001b[0m \u001b[39mimport\u001b[39;00m \u001b[39mseaborn\u001b[39;00m \u001b[39mas\u001b[39;00m \u001b[39msns\u001b[39;00m\n\u001b[1;32m      5\u001b[0m \u001b[39mimport\u001b[39;00m \u001b[39mcategory_encoders\u001b[39;00m \u001b[39mas\u001b[39;00m \u001b[39mce\u001b[39;00m\n\u001b[0;32m----> 6\u001b[0m \u001b[39mfrom\u001b[39;00m \u001b[39mloadData\u001b[39;00m \u001b[39mimport\u001b[39;00m LoadData\n\u001b[1;32m      7\u001b[0m \u001b[39mfrom\u001b[39;00m \u001b[39mProcessData\u001b[39;00m \u001b[39mimport\u001b[39;00m ProcessingData\n",
      "\u001b[0;31mModuleNotFoundError\u001b[0m: No module named 'loadData'"
     ]
    }
   ],
   "source": [
    "import pandas as pd\n",
    "import numpy as np\n",
    "import matplotlib.pyplot as plt\n",
    "import seaborn as sns\n",
    "import category_encoders as ce\n",
    "from loadData import LoadData\n",
    "from ProcessData import ProcessingData\n",
    "\n"
   ]
  },
  {
   "attachments": {},
   "cell_type": "markdown",
   "metadata": {},
   "source": [
    "## Load"
   ]
  },
  {
   "cell_type": "code",
   "execution_count": null,
   "metadata": {},
   "outputs": [],
   "source": [
    "load_features_train = './data/dengue_features_train.csv'\n",
    "load_features_test = './data/dengue_features_test.csv'\n",
    "load_labels_train = './data/dengue_labels_train.csv'\n",
    "\n",
    "load_data = LoadData(load_features_train, load_labels_train, load_features_test)\n",
    "df_train = load_data.read_dataframe(joinlabe=True, jointest=True)"
   ]
  },
  {
   "cell_type": "code",
   "execution_count": null,
   "metadata": {},
   "outputs": [],
   "source": [
    "process_data = ProcessingData(df=df_train)\n",
    "# decide how to fill\n",
    "process_data.fill_data(fillType='ffill')\n",
    "\n",
    "df = process_data.duplicates_drop(drop=True)\n",
    "sj,iq = process_data.city_split(splist=True)"
   ]
  },
  {
   "cell_type": "code",
   "execution_count": null,
   "metadata": {},
   "outputs": [],
   "source": [
    "sj.isnull().any()"
   ]
  },
  {
   "cell_type": "markdown",
   "metadata": {},
   "source": []
  },
  {
   "cell_type": "code",
   "execution_count": null,
   "metadata": {},
   "outputs": [],
   "source": [
    "def preprocess_data(df, featuresDrop, fillType, split_city=True, duplicates = True):\n",
    "    \n",
    "    if duplicates:\n",
    "        df.drop_duplicates(inplace=True)\n",
    "    else:\n",
    "        pass\n",
    "\n",
    "    # select features we want\n",
    "    df.drop(columns=featuresDrop, inplace=True)\n",
    "    \n",
    "    if fillType == 'ffill':\n",
    "    # fill missing values\n",
    "        df.fillna(method='ffill', inplace=True)\n",
    "    elif fillType == 'fmean':\n",
    "        df.fillna(df.mean(), inplace=True)\n",
    "    else:\n",
    "        df.fillna(0, inplace=True)\n",
    "    \n",
    "    if split_city:\n",
    "    # separate san juan and iquitos\n",
    "\n",
    "        sj = df[df.loc[:, 'city'] == 'sj']\n",
    "        iq = df[df.loc[:, 'city'] == 'iq']\n",
    "        return sj, iq\n",
    "    else:\n",
    "        return df"
   ]
  },
  {
   "cell_type": "code",
   "execution_count": null,
   "metadata": {},
   "outputs": [],
   "source": [
    "featuresDrop = ['week_start_date']\n",
    "fill_type = 'ffill'\n",
    "sj, iq = preprocess_data(df_train, featuresDrop, fill_type, split_city=True)"
   ]
  },
  {
   "cell_type": "code",
   "execution_count": null,
   "metadata": {},
   "outputs": [],
   "source": [
    "a = [1,2,3]\n",
    "b = [1,2,3]\n",
    "c = a+b\n",
    "c"
   ]
  }
 ],
 "metadata": {
  "kernelspec": {
   "display_name": "dsr",
   "language": "python",
   "name": "python3"
  },
  "language_info": {
   "codemirror_mode": {
    "name": "ipython",
    "version": 3
   },
   "file_extension": ".py",
   "mimetype": "text/x-python",
   "name": "python",
   "nbconvert_exporter": "python",
   "pygments_lexer": "ipython3",
   "version": "3.10.9 (main, Jan 11 2023, 09:18:18) [Clang 14.0.6 ]"
  },
  "orig_nbformat": 4,
  "vscode": {
   "interpreter": {
    "hash": "ac6ae535d8bb5fdce079b3826860f9b94c676159d93e7242103ebc3f845f6fb9"
   }
  }
 },
 "nbformat": 4,
 "nbformat_minor": 2
}
