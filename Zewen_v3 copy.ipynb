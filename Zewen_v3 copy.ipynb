{
 "cells": [
  {
   "cell_type": "code",
   "execution_count": 7,
   "metadata": {},
   "outputs": [],
   "source": [
    "import pandas as pd\n",
    "import numpy as np\n",
    "import matplotlib.pyplot as plt\n",
    "import seaborn as sns\n",
    "import category_encoders as ce\n",
    "from loadData import LoadData\n",
    "from ProcessData import ProcessingData\n",
    "\n"
   ]
  },
  {
   "attachments": {},
   "cell_type": "markdown",
   "metadata": {},
   "source": [
    "## Load"
   ]
  },
  {
   "cell_type": "code",
   "execution_count": 8,
   "metadata": {},
   "outputs": [],
   "source": [
    "load_features_train = './data/dengue_features_train.csv'\n",
    "load_features_test = './data/dengue_features_test.csv'\n",
    "load_labels_train = './data/dengue_labels_train.csv'\n",
    "\n",
    "load_data = LoadData(load_features_train, load_labels_train, load_features_test)\n",
    "df_train = load_data.read_dataframe(joinlabe=True, jointest=True)"
   ]
  },
  {
   "cell_type": "code",
   "execution_count": 9,
   "metadata": {},
   "outputs": [],
   "source": [
    "process_data = ProcessingData(df=df_train)\n",
    "# decide how to fill\n",
    "process_data.fill_data(fillType='ffill')\n",
    "\n",
    "df = process_data.duplicates_drop(drop=True)\n",
    "sj,iq = process_data.city_split(splist=True)"
   ]
  },
  {
   "cell_type": "code",
   "execution_count": 10,
   "metadata": {},
   "outputs": [
    {
     "data": {
      "text/plain": [
       "city                                     False\n",
       "year                                     False\n",
       "weekofyear                               False\n",
       "week_start_date                          False\n",
       "ndvi_ne                                  False\n",
       "ndvi_nw                                  False\n",
       "ndvi_se                                  False\n",
       "ndvi_sw                                  False\n",
       "precipitation_amt_mm                     False\n",
       "reanalysis_air_temp_k                    False\n",
       "reanalysis_avg_temp_k                    False\n",
       "reanalysis_dew_point_temp_k              False\n",
       "reanalysis_max_air_temp_k                False\n",
       "reanalysis_min_air_temp_k                False\n",
       "reanalysis_precip_amt_kg_per_m2          False\n",
       "reanalysis_relative_humidity_percent     False\n",
       "reanalysis_sat_precip_amt_mm             False\n",
       "reanalysis_specific_humidity_g_per_kg    False\n",
       "reanalysis_tdtr_k                        False\n",
       "station_avg_temp_c                       False\n",
       "station_diur_temp_rng_c                  False\n",
       "station_max_temp_c                       False\n",
       "station_min_temp_c                       False\n",
       "station_precip_mm                        False\n",
       "total_cases                              False\n",
       "dtype: bool"
      ]
     },
     "execution_count": 10,
     "metadata": {},
     "output_type": "execute_result"
    }
   ],
   "source": [
    "sj.isnull().any()"
   ]
  },
  {
   "cell_type": "markdown",
   "metadata": {},
   "source": []
  },
  {
   "cell_type": "code",
   "execution_count": 11,
   "metadata": {},
   "outputs": [],
   "source": [
    "def preprocess_data(df, featuresDrop, fillType, split_city=True, duplicates = True):\n",
    "    \n",
    "    if duplicates:\n",
    "        df.drop_duplicates(inplace=True)\n",
    "    else:\n",
    "        pass\n",
    "\n",
    "    # select features we want\n",
    "    df.drop(columns=featuresDrop, inplace=True)\n",
    "    \n",
    "    if fillType == 'ffill':\n",
    "    # fill missing values\n",
    "        df.fillna(method='ffill', inplace=True)\n",
    "    elif fillType == 'fmean':\n",
    "        df.fillna(df.mean(), inplace=True)\n",
    "    else:\n",
    "        df.fillna(0, inplace=True)\n",
    "    \n",
    "    if split_city:\n",
    "    # separate san juan and iquitos\n",
    "\n",
    "        sj = df[df.loc[:, 'city'] == 'sj']\n",
    "        iq = df[df.loc[:, 'city'] == 'iq']\n",
    "        return sj, iq\n",
    "    else:\n",
    "        return df"
   ]
  },
  {
   "cell_type": "code",
   "execution_count": 12,
   "metadata": {},
   "outputs": [],
   "source": [
    "featuresDrop = ['week_start_date']\n",
    "fill_type = 'ffill'\n",
    "sj, iq = preprocess_data(df_train, featuresDrop, fill_type, split_city=True)"
   ]
  }
 ],
 "metadata": {
  "kernelspec": {
   "display_name": "dsr",
   "language": "python",
   "name": "python3"
  },
  "language_info": {
   "codemirror_mode": {
    "name": "ipython",
    "version": 3
   },
   "file_extension": ".py",
   "mimetype": "text/x-python",
   "name": "python",
   "nbconvert_exporter": "python",
   "pygments_lexer": "ipython3",
   "version": "3.10.9 (main, Jan 11 2023, 09:18:18) [Clang 14.0.6 ]"
  },
  "orig_nbformat": 4,
  "vscode": {
   "interpreter": {
    "hash": "ac6ae535d8bb5fdce079b3826860f9b94c676159d93e7242103ebc3f845f6fb9"
   }
  }
 },
 "nbformat": 4,
 "nbformat_minor": 2
}
