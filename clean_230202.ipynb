{
 "cells": [
  {
   "cell_type": "code",
   "execution_count": 90,
   "metadata": {},
   "outputs": [],
   "source": [
    "import pandas as pd\n",
    "import numpy as np\n",
    "import seaborn as sns\n",
    "import matplotlib.pyplot as plt"
   ]
  },
  {
   "cell_type": "code",
   "execution_count": 91,
   "metadata": {},
   "outputs": [],
   "source": [
    "# Importing the files\n",
    "y_train = pd.read_csv('./data/dengue_labels_train.csv')\n",
    "X_train = pd.read_csv('./data/dengue_features_train.csv')\n",
    "X_test = pd.read_csv('./data/dengue_features_test.csv')"
   ]
  },
  {
   "cell_type": "code",
   "execution_count": 92,
   "metadata": {},
   "outputs": [],
   "source": [
    "from sklearn.pipeline import Pipeline\n",
    "from sklearn.linear_model import LinearRegression # as a baseline\n",
    "from sklearn.preprocessing import StandardScaler"
   ]
  },
  {
   "cell_type": "code",
   "execution_count": 93,
   "metadata": {},
   "outputs": [],
   "source": [
    "# data cleaning training set\n",
    "df = pd.concat([y_train['total_cases'], X_train], axis=1)\n",
    "df = df.dropna()\n",
    "y_train = df['total_cases']\n",
    "X_train = df.drop(columns=['total_cases'])\n",
    "\n",
    "# data cleaning trainset\n",
    "X_train['Month'] = pd.DatetimeIndex(X_train['week_start_date']).month\n",
    "X_train = X_train.drop(columns=['year', 'weekofyear', 'week_start_date', 'city'])\n",
    "for i in X_train.columns:\n",
    "    X_train[i].fillna(X_train.groupby('Month')[i].transform('median'), inplace=True)\n",
    "\n",
    "# data cleaning testset\n",
    "X_test['Month'] = pd.DatetimeIndex(X_test['week_start_date']).month\n",
    "X_test = X_test.drop(columns=['year', 'weekofyear', 'week_start_date', 'city'])\n",
    "for i in X_test.columns:\n",
    "    X_test[i].fillna(X_test.groupby('Month')[i].transform('median'), inplace=True)\n",
    "\n",
    "#Baseline LinearRegression\n",
    "pipe_lr = Pipeline([('scaler', StandardScaler()), ('lr', LinearRegression())])\n",
    "\n",
    "pipe_lr.fit(X_train, y_train)\n",
    "lr_predict = pipe_lr.predict(X_test)"
   ]
  },
  {
   "cell_type": "code",
   "execution_count": 94,
   "metadata": {},
   "outputs": [],
   "source": [
    "subm = pd.read_csv('./submission_format.csv')\n",
    "labels = pd.DataFrame({'total_cases': pd.Series(lr_predict)})\n",
    "subm.loc[:, 'total_cases'] = labels.astype(int)\n",
    "subm.to_csv('test.csv', index=False)"
   ]
  }
 ],
 "metadata": {
  "kernelspec": {
   "display_name": "base",
   "language": "python",
   "name": "python3"
  },
  "language_info": {
   "codemirror_mode": {
    "name": "ipython",
    "version": 3
   },
   "file_extension": ".py",
   "mimetype": "text/x-python",
   "name": "python",
   "nbconvert_exporter": "python",
   "pygments_lexer": "ipython3",
   "version": "3.9.13"
  },
  "orig_nbformat": 4,
  "vscode": {
   "interpreter": {
    "hash": "b5d0bf2a609bcd5bd5a8e5e08d20ae0cc24fb4a14b1503a2d49e124dfb79944f"
   }
  }
 },
 "nbformat": 4,
 "nbformat_minor": 2
}
